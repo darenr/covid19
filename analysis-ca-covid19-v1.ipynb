{
 "cells": [
  {
   "cell_type": "code",
   "execution_count": null,
   "metadata": {
    "scrolled": false
   },
   "outputs": [],
   "source": [
    "import numpy as np\n",
    "import pandas as pd\n",
    "\n",
    "from datetime import datetime\n",
    "\n",
    "import hvplot.pandas\n",
    "import holoviews as hv\n",
    "\n",
    "import warnings\n",
    "\n",
    "from datetime import datetime\n",
    "today = datetime.today().strftime('%m/%d/%Y')\n",
    "\n",
    "with warnings.catch_warnings():\n",
    "    warnings.simplefilter(\"ignore\")\n",
    "\n",
    "states_url = 'https://raw.githubusercontent.com/nytimes/covid-19-data/master/us-states.csv'\n",
    "counties_url = 'https://raw.githubusercontent.com/nytimes/covid-19-data/master/us-counties.csv'\n",
    "\n",
    "state_name = 'California'\n",
    "\n",
    "county_populations = {\n",
    "    'San Mateo': 765935, \n",
    "    'San Francisco': 870044,\n",
    "    'Santa Clara': 1922200,\n",
    "    'Alameda': 1643700   \n",
    "}\n",
    "\n",
    "interested_counties = list(county_populations.keys())\n",
    "\n",
    "\n",
    "hv.config(future_deprecations=True)\n",
    "\n",
    "hv.notebook_extension('bokeh')\n"
   ]
  },
  {
   "cell_type": "code",
   "execution_count": null,
   "metadata": {},
   "outputs": [],
   "source": [
    "def prepare_cases(cases, rolling_window=7):\n",
    "    new_cases = cases.diff()\n",
    "\n",
    "    smoothed = new_cases.rolling(\n",
    "        rolling_window,\n",
    "        win_type='gaussian',\n",
    "        min_periods=1,\n",
    "        center=True).mean(std=2).round()\n",
    "    \n",
    "    zeros = smoothed.index[smoothed.eq(0)]\n",
    "    if len(zeros) == 0:\n",
    "        idx_start = 0\n",
    "    else:\n",
    "        last_zero = zeros.max()\n",
    "        idx_start = smoothed.index.get_loc(last_zero) + 1\n",
    "        \n",
    "    smoothed = smoothed.iloc[idx_start:]\n",
    "    original = new_cases.loc[smoothed.index]\n",
    "    \n",
    "    return original, smoothed\n"
   ]
  },
  {
   "cell_type": "code",
   "execution_count": null,
   "metadata": {
    "scrolled": false
   },
   "outputs": [],
   "source": [
    "\n",
    "states = pd.read_csv(states_url,\n",
    "                     usecols=[0,1,3], # 3 is new cases\n",
    "                     index_col=['state', 'date'],\n",
    "                     parse_dates=['date']).sort_index()\n",
    "    \n",
    "original, smoothed = prepare_cases(states.xs(state_name).squeeze())\n",
    "\n",
    "pd.DataFrame({\n",
    "        \"Actual\": original, \n",
    "        \"7 Day Rolling\": smoothed\n",
    "    }).hvplot(\n",
    "        title = f\"{state_name} Daily New Cases [{today}]\", \n",
    "        grid=True,\n",
    "        color=hv.Cycle(['lightgrey', 'red'])\n",
    ")\n"
   ]
  },
  {
   "cell_type": "code",
   "execution_count": null,
   "metadata": {
    "scrolled": false
   },
   "outputs": [],
   "source": [
    "\n",
    "states = pd.read_csv(states_url,\n",
    "                     usecols=[0,1,4], # 4 is deaths\n",
    "                     index_col=['state', 'date'],\n",
    "                     parse_dates=['date']).sort_index()\n",
    "\n",
    "original, smoothed = prepare_cases(states.xs(state_name).squeeze())\n",
    "\n",
    "pd.DataFrame({\n",
    "        \"Actual\": original, \n",
    "        \"7 Day Rolling\": smoothed\n",
    "    }).hvplot(\n",
    "        title = f\"{state_name} Daily Deaths [{today}]\", \n",
    "        grid=True,\n",
    "        color=hv.Cycle(['lightgrey', 'red'])\n",
    ")\n"
   ]
  },
  {
   "cell_type": "code",
   "execution_count": null,
   "metadata": {},
   "outputs": [],
   "source": [
    "# Bay Area new daily deaths \n",
    "\n",
    "counties = pd.read_csv(counties_url,\n",
    "              parse_dates=['date'],\n",
    "              squeeze=True)\n",
    "\n",
    "counties = counties[counties.county.isin(['San Mateo'])]\\\n",
    "        .drop(columns=['state', 'fips', 'cases'])\\\n",
    "        .set_index(['county', 'date'])\\\n",
    "        .sort_index()\n",
    "\n",
    "original, smoothed = prepare_cases(counties.xs('San Mateo').squeeze(), 7)\n",
    "\n",
    "pd.DataFrame({\n",
    "        \"Actual\": original, \n",
    "        \"7 Day Rolling\": smoothed\n",
    "    }).hvplot(\n",
    "        title = f\"Bay Area Daily Deaths [{today}]\", \n",
    "        grid=True,\n",
    "        color=hv.Cycle(['lightgrey', 'red'])\n",
    ")\n"
   ]
  },
  {
   "cell_type": "code",
   "execution_count": null,
   "metadata": {
    "scrolled": false
   },
   "outputs": [],
   "source": [
    "# new cases in 4 counties broken out\n",
    "\n",
    "\n",
    "counties = pd.read_csv(counties_url,\n",
    "              parse_dates=['date'],\n",
    "              squeeze=True)\n",
    "\n",
    "counties = counties[counties.county.isin(interested_counties)]\\\n",
    "        .drop(columns=['state', 'fips', 'deaths'])\\\n",
    "        .set_index(['county', 'date'])\\\n",
    "        .sort_index()\n",
    "\n",
    "mergedDf = pd.DataFrame()\n",
    "\n",
    "for i, county_name in enumerate(interested_counties):\n",
    "\n",
    "    _, smoothed = prepare_cases(counties.xs(county_name).squeeze())\n",
    "    \n",
    "    mergedDf[county_name] = smoothed\n",
    "    \n",
    "mergedDf['Bay Area'] = mergedDf[interested_counties].sum(axis=1)\n",
    "\n",
    "mergedDf.hvplot(\n",
    "    title=f\"Daily New Cases by County [{today}]\",\n",
    "    color=hv.Cycle(['#A904BF', '#3B0273', '#EBF20C', '#F2B90C', 'red']),\n",
    "    grid=True)\n"
   ]
  },
  {
   "cell_type": "code",
   "execution_count": null,
   "metadata": {},
   "outputs": [],
   "source": []
  }
 ],
 "metadata": {
  "kernelspec": {
   "display_name": "Python (Vor)",
   "language": "python",
   "name": "vor"
  },
  "language_info": {
   "codemirror_mode": {
    "name": "ipython",
    "version": 3
   },
   "file_extension": ".py",
   "mimetype": "text/x-python",
   "name": "python",
   "nbconvert_exporter": "python",
   "pygments_lexer": "ipython3",
   "version": "3.7.5"
  }
 },
 "nbformat": 4,
 "nbformat_minor": 4
}
